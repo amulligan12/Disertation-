{
 "cells": [
  {
   "cell_type": "code",
   "execution_count": 1,
   "id": "53d59d86",
   "metadata": {},
   "outputs": [],
   "source": [
    "import random\n",
    "import pandas as pd # data processing, CSV file I/O (e.g. pd.read_csv)\n",
    "from sklearn.model_selection import train_test_split\n",
    "from sklearn.utils import resample\n",
    "from sklearn import svm\n",
    "from sklearn.linear_model import LogisticRegression\n",
    "from sklearn import metrics\n",
    "from sklearn.metrics import classification_report, confusion_matrix\n",
    "import statistics\n",
    "import numpy as np\n",
    "from numpy import genfromtxt\n",
    "from sklearn.model_selection import cross_val_predict\n",
    "from sklearn import datasets, linear_model\n",
    "from sklearn.model_selection import LeaveOneOut\n",
    "from sklearn.decomposition import PCA\n",
    "from sklearn.preprocessing import MinMaxScaler\n",
    "from sklearn.metrics import f1_score\n",
    "from sklearn.feature_selection import SelectKBest\n",
    "from sklearn.feature_selection import f_classif\n",
    "from sklearn.model_selection import cross_val_score\n",
    "from sklearn.feature_selection import chi2\n",
    "import matplotlib.pyplot as plt\n",
    "from sklearn.utils import shuffle\n",
    "import seaborn as sns\n",
    "import statistics\n",
    "\n",
    "from scipy import stats\n"
   ]
  },
  {
   "cell_type": "markdown",
   "id": "25454c9c",
   "metadata": {},
   "source": [
    "### Generate The differnt downsample and data splits"
   ]
  },
  {
   "cell_type": "markdown",
   "id": "04766cc8",
   "metadata": {},
   "source": [
    "#### Downsampling"
   ]
  },
  {
   "cell_type": "code",
   "execution_count": 2,
   "id": "f5308367",
   "metadata": {},
   "outputs": [],
   "source": [
    "# invalid bad practice dont use...\n",
    "def downsampling_pre_split(feature_data, random_state):\n",
    "    dataset_majority = feature_data[feature_data[\"PHQ8_Binary\"]==0]\n",
    "    dataset_minority = feature_data[feature_data[\"PHQ8_Binary\"]==1]\n",
    "    \n",
    "    dataset_majority_downsampled = resample(dataset_majority, \n",
    "                                 replace=False,    \n",
    "                                 n_samples=len(dataset_minority), random_state = random_state)\n",
    "    \n",
    "    dataset_downsampled = pd.concat([dataset_majority_downsampled, dataset_minority])\n",
    "    return dataset_downsampled\n",
    "    "
   ]
  },
  {
   "cell_type": "code",
   "execution_count": 3,
   "id": "c315921e",
   "metadata": {},
   "outputs": [],
   "source": [
    "def downsampling_post_split(X_train, Y_train, random_state):\n",
    "    tempfeatures = X_train.copy()\n",
    "    tempfeatures.insert(loc=1, column = 'PHQ8_binary', value=Y_train)\n",
    "    \n",
    "    dataset_majority = tempfeatures[tempfeatures[\"PHQ8_binary\"]==0]\n",
    "    dataset_minority = tempfeatures[tempfeatures[\"PHQ8_binary\"]==1]\n",
    "    \n",
    "    dataset_majority_downsampled = resample(dataset_majority, \n",
    "                                 replace=False,    \n",
    "                                 n_samples=len(dataset_minority), random_state = random_state)\n",
    "    \n",
    "    dataset_downsampled = pd.concat([dataset_majority_downsampled, dataset_minority])    \n",
    "    Y_train_down = dataset_downsampled['PHQ8_binary']\n",
    "    X_train_down = dataset_downsampled.drop(['PHQ8_binary'], axis=1).copy()    \n",
    "  \n",
    "    return X_train_down, Y_train_down"
   ]
  },
  {
   "cell_type": "code",
   "execution_count": 4,
   "id": "14bd530c",
   "metadata": {},
   "outputs": [],
   "source": [
    "def downsampling_gender(X_train, Y_train, random_state):\n",
    "    tempfeatures = X_train.copy()\n",
    "    tempfeatures.insert(loc=1, column = 'PHQ8_binary', value=Y_train)\n",
    "    \n",
    "    dataset_majority_male = tempfeatures[(tempfeatures[\"PHQ8_binary\"]==0) & (tempfeatures[\"Gender\"]==1) ]\n",
    "    dataset_minority_male = tempfeatures[(tempfeatures[\"PHQ8_binary\"]==1) & (tempfeatures[\"Gender\"]==1) ]\n",
    "    dataset_majority_female = tempfeatures[(tempfeatures[\"PHQ8_binary\"]==0) & (tempfeatures[\"Gender\"]==0) ]\n",
    "    dataset_minority_female = tempfeatures[(tempfeatures[\"PHQ8_binary\"]==1) & (tempfeatures[\"Gender\"]==0) ]\n",
    "\n",
    "    smallest_count = (min(len(dataset_majority_male), len(dataset_minority_male), len(dataset_majority_female), len(dataset_minority_female)))\n",
    "\n",
    "    dataset_majority_male_downsampled = resample(dataset_majority_male, \n",
    "                                     replace=False,    \n",
    "                                     n_samples=smallest_count, random_state = random_state)\n",
    "    dataset_minority_male_downsampled = resample(dataset_minority_male, \n",
    "                                     replace=False,    \n",
    "                                     n_samples=smallest_count, random_state = random_state)\n",
    "    dataset_majority_female_downsampled = resample(dataset_majority_female, \n",
    "                                     replace=False,    \n",
    "                                     n_samples=smallest_count, random_state = random_state)\n",
    "    dataset_minority_female_downsampled = resample(dataset_minority_female, \n",
    "                                     replace=False,    \n",
    "                                     n_samples=smallest_count, random_state = random_state)\n",
    "\n",
    "    dataset_downsampled = pd.concat([dataset_majority_male_downsampled, dataset_minority_male_downsampled ,dataset_majority_female_downsampled , dataset_minority_female_downsampled])\n",
    "    Y_train_down = dataset_downsampled['PHQ8_binary']\n",
    "    X_train_down = dataset_downsampled.drop(['PHQ8_binary'], axis=1).copy()  \n",
    "    \n",
    "    return X_train_down, Y_train_down\n",
    "    "
   ]
  },
  {
   "cell_type": "code",
   "execution_count": null,
   "id": "e579ec82",
   "metadata": {},
   "outputs": [],
   "source": []
  },
  {
   "cell_type": "code",
   "execution_count": null,
   "id": "f1145602",
   "metadata": {},
   "outputs": [],
   "source": []
  },
  {
   "cell_type": "markdown",
   "id": "24114b1f",
   "metadata": {},
   "source": [
    "#### Data Splits"
   ]
  },
  {
   "cell_type": "markdown",
   "id": "bcb0de95",
   "metadata": {},
   "source": [
    "##### Benchmark Offical Split of the Dataset"
   ]
  },
  {
   "cell_type": "code",
   "execution_count": 5,
   "id": "cd59d947",
   "metadata": {},
   "outputs": [],
   "source": [
    "def benchmark_split (feature_data):\n",
    "    X_train_Bench = feature_data.loc[feature_data['data_set'] == 0]\n",
    "    Y_train_Bench = feature_data['PHQ8_Binary'].loc[feature_data['data_set'] == 0]\n",
    "    #print(Y_train_Bench)\n",
    "    X_train_Bench.drop(\"PHQ8_Binary\", axis=1, inplace=True)\n",
    "    X_train_Bench.drop([\"PHQ8_Score\",  \"data_set\", \"patient_id\"], axis=1, inplace=True)\n",
    "\n",
    "    X_test_Bench = feature_data.loc[feature_data['data_set'] == 2]\n",
    "    Y_test_Bench = feature_data['PHQ8_Binary'].loc[feature_data['data_set'] == 2]\n",
    "    X_test_Bench.drop(\"PHQ8_Binary\", axis=1, inplace=True)\n",
    "    X_test_Bench.drop([\"PHQ8_Score\", \"Gender\", \"data_set\", \"patient_id\"], axis=1, inplace=True)\n",
    "    \n",
    "    return X_train_Bench,X_test_Bench, Y_train_Bench, Y_test_Bench\n"
   ]
  },
  {
   "cell_type": "markdown",
   "id": "aa27e076",
   "metadata": {},
   "source": [
    "##### Extreme PHQ8 Scores only, Downsampled to MDD class"
   ]
  },
  {
   "cell_type": "code",
   "execution_count": 6,
   "id": "ca132186",
   "metadata": {},
   "outputs": [],
   "source": [
    "def extreme_mdd_marks7030(feature_data, random_state):\n",
    "    high_scores = feature_data.loc[feature_data['PHQ8_Score'] <= 17]\n",
    "    low_scores = high_scores.loc[feature_data['PHQ8_Score'] >= 5]\n",
    "    #low_scores_downsampled = resample(low_scores, \n",
    "    #                             replace=False,    \n",
    "    #                             n_samples=len(high_scores), random_state = random_state)\n",
    "    \n",
    "    dataset_extremes = pd.concat([low_scores, high_scores])\n",
    "    \n",
    "    X_features = dataset_extremes.drop([\"PHQ8_Binary\",\"PHQ8_Score\",  \"data_set\", \"patient_id\"], axis=1)\n",
    "    Y_MDD_binary = dataset_extremes['PHQ8_Binary']\n",
    "    X_train, X_test, Y_train, Y_test = train_test_split(X_features, Y_MDD_binary, test_size = 0.30,  random_state = random_state, stratify = Y_MDD_binary)  \n",
    "    X_test = X_test.drop([\"Gender\"], axis=1)\n",
    "    return X_train, X_test, Y_train, Y_test\n",
    "        "
   ]
  },
  {
   "cell_type": "code",
   "execution_count": 7,
   "id": "25c2c415",
   "metadata": {},
   "outputs": [],
   "source": [
    "def Oextreme_mdd_marks7030(feature_data, random_state):\n",
    "    high_scores = feature_data.loc[feature_data['PHQ8_Score'] >= 19]\n",
    "    low_scores = feature_data.loc[feature_data['PHQ8_Score'] <= 5]\n",
    "    low_scores = low_scores.loc[low_scores['PHQ8_Score'] >= 1 ]\n",
    "    low_scores_downsampled = resample(low_scores, \n",
    "                                 replace=False,    \n",
    "                                 n_samples=len(high_scores), random_state = random_state)\n",
    "    \n",
    "    dataset_extremes = pd.concat([low_scores_downsampled, high_scores])\n",
    "    \n",
    "    X_features = dataset_extremes.drop([\"PHQ8_Binary\",\"PHQ8_Score\", \"data_set\", \"patient_id\"], axis=1)\n",
    "    Y_MDD_binary = dataset_extremes['PHQ8_Binary']\n",
    "    X_train, X_test, Y_train, Y_test = train_test_split(X_features, Y_MDD_binary, test_size = 0.30,  random_state = random_state, stratify = Y_MDD_binary)  \n",
    "    X_test = X_test.drop([\"Gender\"], axis=1)\n",
    "    return X_train, X_test, Y_train, Y_test\n",
    "        "
   ]
  },
  {
   "cell_type": "markdown",
   "id": "85470c19",
   "metadata": {},
   "source": [
    "##### Random Data Split 80/20"
   ]
  },
  {
   "cell_type": "code",
   "execution_count": 8,
   "id": "363d33fb",
   "metadata": {},
   "outputs": [],
   "source": [
    "def random_data_nd_8020(feature_data, random_state):\n",
    "    X_features = feature_data.drop([\"PHQ8_Binary\",\"PHQ8_Score\",  \"data_set\", \"patient_id\"], axis=1)\n",
    "    Y_MDD_binary = feature_data['PHQ8_Binary']\n",
    "    ##### Random Data Split 70/30\n",
    "    X_train_80, X_test_20, Y_train_80, Y_test_20 = train_test_split(X_features, Y_MDD_binary, test_size = 0.20,  random_state = random_state, stratify = Y_MDD_binary)\n",
    "    X_test_20 = X_test_20.drop([\"Gender\"], axis=1)\n",
    "    return X_train_80, X_test_20, Y_train_80, Y_test_20"
   ]
  },
  {
   "cell_type": "markdown",
   "id": "830599f3",
   "metadata": {},
   "source": [
    "##### Random Data Split 70/30"
   ]
  },
  {
   "cell_type": "code",
   "execution_count": 9,
   "id": "83d98097",
   "metadata": {},
   "outputs": [],
   "source": [
    "def random_data_nd_7030(feature_data, random_state):\n",
    "    X_features = feature_data.drop([\"PHQ8_Binary\",\"PHQ8_Score\",  \"data_set\", \"patient_id\"], axis=1)\n",
    "    Y_MDD_binary = feature_data['PHQ8_Binary']\n",
    "    X_test = X_test.drop([\"Gender\"], axis=1)\n",
    "    X_train_70, X_test_30, Y_train_70, Y_test_30 = train_test_split(X_features, Y_MDD_binary, test_size = 0.30, random_state = random_state, stratify = Y_MDD_binary)\n",
    "    X_test_30 = X_test_30.drop([\"Gender\"], axis=1)\n",
    "    return X_train_70, X_test_30, Y_train_70, Y_test_30"
   ]
  },
  {
   "cell_type": "markdown",
   "id": "34bb3b03",
   "metadata": {},
   "source": [
    "#### Split 90/10"
   ]
  },
  {
   "cell_type": "code",
   "execution_count": 10,
   "id": "c0d85cde",
   "metadata": {},
   "outputs": [],
   "source": [
    "def random_data_nd_9010(feature_data, random_state):\n",
    "    X_features = feature_data.drop([\"PHQ8_Binary\",\"PHQ8_Score\",  \"data_set\", \"patient_id\"], axis=1)\n",
    "    Y_MDD_binary = feature_data['PHQ8_Binary']\n",
    "    \n",
    "    X_train_90, X_test_10, Y_train_90, Y_test_10 = train_test_split(X_features, Y_MDD_binary, test_size = 0.10,  random_state = random_state, stratify = Y_MDD_binary)\n",
    "    X_test_90 = X_test_90.drop([\"Gender\"], axis=1)\n",
    "    return X_train_90, X_test_10, Y_train_90, Y_test_10"
   ]
  },
  {
   "cell_type": "code",
   "execution_count": null,
   "id": "42c51b66",
   "metadata": {},
   "outputs": [],
   "source": []
  },
  {
   "cell_type": "markdown",
   "id": "e5be2f46",
   "metadata": {},
   "source": [
    "##### Feature Groups, Feature selection"
   ]
  },
  {
   "cell_type": "code",
   "execution_count": 11,
   "id": "c96b03eb",
   "metadata": {},
   "outputs": [],
   "source": [
    "def feature_basic_set(data_table):\n",
    "    basic_feature = data_table[[\"patient_id\", \"PHQ8_Binary\",\"PHQ8_Score\", \"Gender\", \"data_set\", \"duration\", \"meanF0Hz\", \"stdevF0Hz\", \"F0_min\", \"F0_max\", \"localJitter\" , \"localShimmer\"]]   \n",
    "    return basic_feature"
   ]
  },
  {
   "cell_type": "code",
   "execution_count": 160,
   "id": "1bc3f764",
   "metadata": {},
   "outputs": [],
   "source": [
    "def basic_set_plus(data_table):\n",
    "    basic_feature = data_table[[\"patient_id\", \"PHQ8_Binary\",\"PHQ8_Score\", \"Gender\", \"data_set\", \n",
    "                                \"duration\", \"meanF0Hz\", \"stdevF0Hz\", \"F0_min\", \"F0_max\", \"localJitter\" ,\n",
    "                                \"localShimmer\", \"max_F0_range_m_mean_o_sd\", \"max_F0_Range_rel_mean\", \"max_rel_F0grad_o_mean\",\n",
    "                               \"sd_F0_range_m_mean_o_sd\", \"sd_rel_F0grad_m_mean_o_sd\"]]   \n",
    "    return basic_feature"
   ]
  },
  {
   "cell_type": "code",
   "execution_count": 161,
   "id": "f411526c",
   "metadata": {},
   "outputs": [],
   "source": [
    "\n",
    "def basic_set_viatal(data_table):\n",
    "    basic_feature = data_table[[\"patient_id\", \"PHQ8_Binary\",\"PHQ8_Score\", \"Gender\", \"data_set\", \"duration\", \"meanF0Hz\", \"stdevF0Hz\", \"F0_min\", \"F0_max\", \"localJitter\" ,\n",
    "                                \"localShimmer\", \"vitality_comp\"]]   \n",
    "    return basic_feature"
   ]
  },
  {
   "cell_type": "code",
   "execution_count": 12,
   "id": "a348245f",
   "metadata": {},
   "outputs": [],
   "source": [
    "def emotion_features(X_train, X_test):\n",
    "\n",
    "        scaler = MinMaxScaler()\n",
    "        X_train_s = scaler.fit_transform(X_train)\n",
    "        X_test_s = scaler.transform(X_test)\n",
    "\n",
    "        \n",
    "        pca = PCA(n_components= 1)\n",
    "        X_train_feature = pca.fit_transform(X_train_s)\n",
    "        X_test_feature = pca.transform(X_test_s)\n",
    "    \n",
    "        \n",
    "        \n",
    "        \n",
    "        return X_train_feature, X_test_feature\n",
    "\n",
    "        \n"
   ]
  },
  {
   "cell_type": "markdown",
   "id": "911705c4",
   "metadata": {},
   "source": [
    "##### Features from COVERAP Only"
   ]
  },
  {
   "cell_type": "code",
   "execution_count": 13,
   "id": "83135c5f",
   "metadata": {},
   "outputs": [],
   "source": [
    "def Co_feature_group(data_table):\n",
    "    co_feature = data_table[[\"patient_id\", \"PHQ8_Binary\",\"PHQ8_Score\", \"Gender\", \"data_set\", \n",
    "                             \"F0_C_mean\" ,\"NAQ_mean\", \"QoQ_mean\", \"H1H2_mean\", \"PSP_mean\", 'MDQ_mean', \"peakSlope_mean\", \"RdShape_mean\", \n",
    "                             \"Rd_Conf_mean\", \"Creak_mean\", \"MCEP_0_mean\", \"MCEP_1_mean\", \"MCEP_2_mean\", \"MCEP_3_mean\", \"MCEP_4_mean\", \n",
    "                             \"MCEP_5_mean\", \"MCEP_6_mean\", \"MCEP_7_mean\", \"MCEP_8_mean\", \"MCEP_9_mean\", \"MCEP_10_mean\", \"MCEP_11_mean\", \n",
    "                             \"MCEP_12_mean\", \"MCEP_13_mean\", \"MCEP_14_mean\", \"MCEP_15_mean\", \"MCEP_16_mean\", \"MCEP_17_mean\", \n",
    "                             \"MCEP_18_mean\", \"MCEP_19_mean\", \"MCEP_20_mean\", \"MCEP_21_mean\", \"MCEP_22_mean\", \"MCEP_23_mean\", \n",
    "                             \"MCEP_24_mean\", \"HMPDM_0_mean\", \"HMPDM_1_mean\", \"HMPDM_2_mean\", \"HMPDM_3_mean\", \"HMPDM_4_mean\", \n",
    "                             \"HMPDM_5_mean\", \"HMPDM_6_mean\", \"HMPDM_7_mean\", \"HMPDM_8_mean\", \"HMPDM_9_mean\", \"HMPDM_10_mean\", \n",
    "                             \"HMPDM_11_mean\", \"HMPDM_12_mean\", \"HMPDM_13_mean\", \"HMPDM_14_mean\", \"HMPDM_15_mean\", \"HMPDM_16_mean\", \n",
    "                             \"HMPDM_17_mean\", \"HMPDM_18_mean\", \"HMPDM_19_mean\", \"HMPDM_20_mean\", \"HMPDM_21_mean\", \"HMPDM_22_mean\", \n",
    "                             \"HMPDM_23_mean\", \"HMPDM_24_mean\", \"HMPDD_0_mean\", \"HMPDD_1_mean\", \"HMPDD_2_mean\", \"HMPDD_3_mean\", \n",
    "                             \"HMPDD_4_mean\", \"HMPDD_5_mean\", \"HMPDD_6_mean\", \"HMPDD_7_mean\", \"HMPDD_8_mean\", \"HMPDD_9_mean\", \n",
    "                             \"HMPDD_10_mean\", \"HMPDD_11_mean\", \"HMPDD_12_mean\", \"F0_C_median\", \"NAQ_median\", \"QoQ_median\", \"H1H2_median\", \n",
    "                             \"PSP_median\", \"MDQ_median\", \"peakSlope_median\", \"RdShape_median\", \"Rd_Conf_median\", \"Creak_median\", \n",
    "                             \"MCEP_0_median\", \"MCEP_1_median\", \"MCEP_2_median\", \"MCEP_3_median\", \"MCEP_4_median\", \"MCEP_5_median\", \n",
    "                             \"MCEP_6_median\", \"MCEP_7_median\", \"MCEP_8_median\", \"MCEP_9_median\", \"MCEP_10_median\", \"MCEP_11_median\", \n",
    "                             \"MCEP_12_median\", \"MCEP_13_median\", \"MCEP_14_median\", \"MCEP_15_median\", \"MCEP_16_median\", \"MCEP_17_median\", \n",
    "                             \"MCEP_18_median\", \"MCEP_19_median\", \"MCEP_20_median\", \"MCEP_21_median\", \"MCEP_22_median\", \"MCEP_23_median\", \n",
    "                             \"MCEP_24_median\", \"HMPDM_0_median\", \"HMPDM_1_median\", \"HMPDM_2_median\", \"HMPDM_3_median\", \"HMPDM_4_median\", \n",
    "                             \"HMPDM_5_median\", \"HMPDM_6_median\", \"HMPDM_7_median\", \"HMPDM_8_median\", \"HMPDM_9_median\", 'HMPDM_10_median', \n",
    "                             \"HMPDM_11_median\", \"HMPDM_12_median\", \"HMPDM_13_median\", \"HMPDM_14_median\", \"HMPDM_15_median\", \n",
    "                             \"HMPDM_16_median\", \"HMPDM_17_median\", \"HMPDM_18_median\", \"HMPDM_19_median\", \"HMPDM_20_median\", \n",
    "                             \"HMPDM_21_median\", \"HMPDM_22_median\", \"HMPDM_23_median\", \"HMPDM_24_median\", \"HMPDD_0_median\", \"HMPDD_1_median\", \n",
    "                             \"HMPDD_2_median\", \"HMPDD_3_median\", \"HMPDD_4_median\", \"HMPDD_5_median\", \"HMPDD_6_median\", \"HMPDD_7_median\", \n",
    "                             \"HMPDD_8_median\", \"HMPDD_9_median\", \"HMPDD_10_median\", \"HMPDD_11_median\", \"HMPDD_12_median\", \"F0_C_sd\", \"NAQ_sd\", \n",
    "                             \"QoQ_sd\", \"H1H2_sd\", \"PSP_sd\", \"MDQ_sd\", \"peakSlope_sd\", \"RdShape_sd\", \"Rd_Conf_sd\", \"Creak_sd\", \"MCEP_0_sd\", \n",
    "                             \"MCEP_1_sd\", \"MCEP_2_sd\", \"MCEP_3_sd\", \"MCEP_4_sd\", \"MCEP_5_sd\", \"MCEP_6_sd\", \"MCEP_7_sd\", \"MCEP_8_sd\", \n",
    "                             \"MCEP_9_sd\", \"MCEP_10_sd\", \"MCEP_11_sd\", \"MCEP_12_sd\", \"MCEP_13_sd\", \"MCEP_14_sd\", \"MCEP_15_sd\", \"MCEP_16_sd\", \n",
    "                             \"MCEP_17_sd\", \"MCEP_18_sd\", \"MCEP_19_sd\", \"MCEP_20_sd\", \"MCEP_21_sd\", \"MCEP_22_sd\", \"MCEP_23_sd\", \"MCEP_24_sd\", \n",
    "                             \"HMPDM_0_sd\", \"HMPDM_1_sd\", \"HMPDM_2_sd\", \"HMPDM_3_sd\", \"HMPDM_4_sd\", \"HMPDM_5_sd\", \"HMPDM_6_sd\", \"HMPDM_7_sd\", \n",
    "                             \"HMPDM_8_sd\", \"HMPDM_9_sd\", \"HMPDM_10_sd\", \"HMPDM_11_sd\", \"HMPDM_12_sd\", \"HMPDM_13_sd\", \"HMPDM_14_sd\", \n",
    "                             \"HMPDM_15_sd\", \"HMPDM_16_sd\", \"HMPDM_17_sd\", \"HMPDM_18_sd\", \"HMPDM_19_sd\", \"HMPDM_20_sd\", \"HMPDM_21_sd\",\n",
    "                             \"HMPDM_22_sd\", \"HMPDM_23_sd\", \"HMPDM_24_sd\", \"HMPDD_0_sd\", \"HMPDD_1_sd\", \"HMPDD_2_sd\", \"HMPDD_3_sd\", \"HMPDD_4_sd\", \n",
    "                             \"HMPDD_5_sd\", \"HMPDD_6_sd\", \"HMPDD_7_sd\", \"HMPDD_8_sd\", \"HMPDD_9_sd\", \"HMPDD_10_sd\", \"HMPDD_11_sd\", \"HMPDD_12_sd\"]]\n",
    "    \n",
    "    return co_feature\n"
   ]
  },
  {
   "cell_type": "markdown",
   "id": "421d9a1e",
   "metadata": {},
   "source": [
    "### Feleature Selection of Extraction Methods"
   ]
  },
  {
   "cell_type": "code",
   "execution_count": 14,
   "id": "57987a1b",
   "metadata": {},
   "outputs": [],
   "source": [
    "def scale_data(X_train, X_test):\n",
    "    scaler = MinMaxScaler()\n",
    "   \n",
    "    X_train_s = scaler.fit_transform(X_train)\n",
    "    \n",
    "    if X_test.empty:\n",
    "        return X_train_s\n",
    "    X_test_s = scaler.transform(X_test)\n",
    "\n",
    "    return X_train_s, X_test_s"
   ]
  },
  {
   "cell_type": "code",
   "execution_count": 15,
   "id": "8071bff7",
   "metadata": {},
   "outputs": [],
   "source": [
    "def pca_training(X_train, X_test):\n",
    "    pca = PCA(n_components= 7)\n",
    "    \n",
    "    X_train = pca.fit_transform(X_train)\n",
    "    X_test = pca.transform(X_test)\n",
    "    \n",
    "    return X_train, X_test"
   ]
  },
  {
   "cell_type": "code",
   "execution_count": 16,
   "id": "9524d15a",
   "metadata": {},
   "outputs": [],
   "source": [
    "def anova_param_search(X_train, Y_train):\n",
    "    # Create and fit selector\n",
    "    selector = SelectKBest(f_classif, k = 'all')\n",
    "    X_train = selector.fit_transform(X_train, Y_train)\n",
    "    cols = selector.get_support(indices=True)\n",
    "    return(cols)"
   ]
  },
  {
   "cell_type": "code",
   "execution_count": 17,
   "id": "5f25afe6",
   "metadata": {},
   "outputs": [],
   "source": [
    "def anova_selector (X_train, Y_train, X_test):\n",
    "    # Create and fit selector\n",
    "    selector = SelectKBest(f_classif, k = 5)\n",
    "    X_train = selector.fit_transform(X_train, Y_train)\n",
    "    cols = selector.get_support(indices=True)\n",
    "\n",
    "    X_test = selector.transform(X_test)\n",
    "\n",
    "    return X_train, Y_train, X_test, cols"
   ]
  },
  {
   "cell_type": "code",
   "execution_count": 18,
   "id": "d31a6b07",
   "metadata": {},
   "outputs": [],
   "source": [
    "def chi_selector (X_train, Y_train, X_test):\n",
    "    selector = SelectKBest(chi2, k=20)\n",
    "    X_train = selector.fit_transform(X_train, Y_train)\n",
    "    cols = selector.get_support(indices=True)\n",
    "\n",
    "    X_test = selector.transform(X_test)\n",
    "    \n",
    "    return X_train, Y_train, X_test, cols\n",
    "    "
   ]
  },
  {
   "cell_type": "code",
   "execution_count": 124,
   "id": "246dea4c",
   "metadata": {},
   "outputs": [],
   "source": [
    "def lasso_selector(X_train, Y_train):\n",
    "    from sklearn.pipeline import Pipeline\n",
    "    from sklearn.preprocessing import StandardScaler\n",
    "    from sklearn.model_selection import train_test_split, GridSearchCV\n",
    "    from sklearn.linear_model import Lasso\n",
    "\n",
    "    pipeline = Pipeline ([\n",
    "        ('scaler', StandardScaler()), \n",
    "        ('model', Lasso())\n",
    "    ])\n",
    "    features = column_headers = X_train.columns.values.tolist()\n",
    "    \n",
    "    search = GridSearchCV(pipeline,\n",
    "                         {'model__alpha':np.arange(0.1,10,0.1)},\n",
    "                         cv=5,\n",
    "                         scoring = \"neg_mean_squared_error\", verbose = 3)\n",
    "    \n",
    "    search.fit(X_train, Y_train)\n",
    "    search.best_params_\n",
    "    coefficients = search.best_estimator_.named_steps['model'].coef_\n",
    "    importance = np.abs(coefficients)\n",
    "    print(importance)\n",
    "    target_features= np.array(features)[importance>0]\n",
    "    \n",
    "    \n",
    "    \n",
    "    \n",
    "    return target_features"
   ]
  },
  {
   "cell_type": "code",
   "execution_count": 134,
   "id": "ae25f56f",
   "metadata": {},
   "outputs": [],
   "source": [
    "def lasso_fitter(X_train, X_test, testfeatures):\n",
    "    X_train = X_train[testfeatures]\n",
    "    X_test = X_test[testfeatures]\n",
    "    \n",
    "    \n",
    "    return X_train, X_test"
   ]
  },
  {
   "cell_type": "code",
   "execution_count": null,
   "id": "8ea9b59c",
   "metadata": {},
   "outputs": [],
   "source": []
  },
  {
   "cell_type": "markdown",
   "id": "9102e436",
   "metadata": {},
   "source": [
    "## Models\n",
    "##### SVM Linear\n"
   ]
  },
  {
   "cell_type": "code",
   "execution_count": 19,
   "id": "e3a09d37",
   "metadata": {},
   "outputs": [],
   "source": [
    "def SVM_linear_prediction (X_train, Y_train, X_test, Y_test):\n",
    "    SVM_Linear_Model = svm.SVC(kernel='linear')\n",
    "    SVM_Linear_Model.fit(X_train, Y_train)\n",
    "    Y_pred_SVM_linear = SVM_Linear_Model.predict(X_test)\n",
    "    return Y_pred_SVM_linear\n",
    "    \n"
   ]
  },
  {
   "cell_type": "markdown",
   "id": "a7d1bd56",
   "metadata": {},
   "source": [
    "#### SVM Guassian or RBF"
   ]
  },
  {
   "cell_type": "code",
   "execution_count": 20,
   "id": "df3aba87",
   "metadata": {},
   "outputs": [],
   "source": [
    "def SVM_rbf_prediction (X_train, Y_train, X_test, Y_test):\n",
    "    SVM_rbf_Model = svm.SVC(kernel='rbf')\n",
    "    SVM_rbf_Model.fit(X_train, Y_train)\n",
    "    Y_pred_SVM_rbf = SVM_rbf_Model.predict(X_test)\n",
    "    return Y_pred_SVM_rbf\n",
    "    \n"
   ]
  },
  {
   "cell_type": "markdown",
   "id": "3bb75268",
   "metadata": {},
   "source": [
    "##### SVM poly\n"
   ]
  },
  {
   "cell_type": "code",
   "execution_count": 21,
   "id": "f1d902fd",
   "metadata": {},
   "outputs": [],
   "source": [
    "def SVM_poly_prediction (X_train, Y_train, X_test, Y_test):\n",
    "    SVM_poly_Model = svm.SVC(kernel='poly')\n",
    "    SVM_poly_Model.fit(X_train, Y_train)\n",
    "    Y_pred_SVM_poly = SVM_poly_Model.predict(X_test)\n",
    "    return Y_pred_SVM_poly\n"
   ]
  },
  {
   "cell_type": "markdown",
   "id": "41b3f1c9",
   "metadata": {},
   "source": [
    "#### MLR"
   ]
  },
  {
   "cell_type": "code",
   "execution_count": 22,
   "id": "d0374e9b",
   "metadata": {},
   "outputs": [],
   "source": [
    "def logistic_regression_prediction(X_train, Y_train, X_test, Y_test):\n",
    "    logReg_Model = LogisticRegression(solver = 'lbfgs', max_iter = 5)\n",
    "    logReg_Model.fit(X_train, Y_train)\n",
    "    Y_pred_mlr = logReg_Model.predict(X_test)\n",
    "    return Y_pred_mlr"
   ]
  },
  {
   "cell_type": "code",
   "execution_count": 23,
   "id": "d9a54920",
   "metadata": {},
   "outputs": [],
   "source": [
    "def stochastic_grad_prediction(X_train, Y_train, X_test, Y_test):\n",
    "    from sklearn.linear_model import SGDRegressor\n",
    "    SG_Model = SGDRegressor(max_iter=50, tol=1e-3).fit(X_train, Y_train)\n",
    "    Y_pred_stg = SG_Model.predict(X_test)\n",
    "      \n",
    "    \n",
    "    print(' R squared statistic: {:.3f}'.format(SG_Model.score(X_train,Y_train)))\n",
    "    print(' Intercept: {:.2f}'.format(SG_Model.intercept_[0]))\n",
    "    \n",
    "    return Y_pred_stg"
   ]
  },
  {
   "cell_type": "code",
   "execution_count": null,
   "id": "8c3b3235",
   "metadata": {},
   "outputs": [],
   "source": []
  },
  {
   "cell_type": "code",
   "execution_count": null,
   "id": "9ccd537f",
   "metadata": {},
   "outputs": [],
   "source": []
  },
  {
   "cell_type": "markdown",
   "id": "4f5822c7",
   "metadata": {},
   "source": [
    "#### Leave One Out Model Iterations"
   ]
  },
  {
   "cell_type": "markdown",
   "id": "5de498de",
   "metadata": {},
   "source": [
    "#### MLR"
   ]
  },
  {
   "cell_type": "code",
   "execution_count": 25,
   "id": "a5cc5aa3",
   "metadata": {},
   "outputs": [],
   "source": [
    "def logistic_regression_LoO(X_data, Y_data):\n",
    "    logReg_Model = LogisticRegression()  \n",
    "    cv = LeaveOneOut()\n",
    "    predictions = cross_val_predict(logReg_Model, X_data, Y_data, cv=LeaveOneOut())    \n",
    "    \n",
    "    return predictions"
   ]
  },
  {
   "cell_type": "markdown",
   "id": "f62e2d1f",
   "metadata": {},
   "source": [
    "#### SVM linear"
   ]
  },
  {
   "cell_type": "code",
   "execution_count": 26,
   "id": "f8092e6d",
   "metadata": {},
   "outputs": [],
   "source": [
    "def SVM_linear_LoO(X_data, Y_data):\n",
    "    SVM_Linear_Model = svm.SVC(kernel='linear')  \n",
    "    cv = LeaveOneOut()\n",
    "    predictions = cross_val_predict(SVM_Linear_Model, X_data, Y_data, cv=LeaveOneOut())    \n",
    "    \n",
    "    return predictions"
   ]
  },
  {
   "cell_type": "markdown",
   "id": "0593e921",
   "metadata": {},
   "source": [
    "#### SVM poly"
   ]
  },
  {
   "cell_type": "code",
   "execution_count": 27,
   "id": "3fe5b744",
   "metadata": {},
   "outputs": [],
   "source": [
    "def SVM_poly_LoOn(X_data, Y_data):\n",
    "    SVM_poly_Model = svm.SVC(kernel='poly')\n",
    "    cv = LeaveOneOut()\n",
    "    predictions = cross_val_predict(SVM_poly_Model, X_data, Y_data, cv=LeaveOneOut())    \n",
    "    \n",
    "    return predictions"
   ]
  },
  {
   "cell_type": "markdown",
   "id": "971060fd",
   "metadata": {},
   "source": [
    "### Performance Metrics "
   ]
  },
  {
   "cell_type": "code",
   "execution_count": 28,
   "id": "1276933b",
   "metadata": {},
   "outputs": [],
   "source": [
    "def performance_metrics(Y_predict, Y_test):\n",
    "    accuracy = metrics.accuracy_score(Y_test, Y_predict)\n",
    "    precision = metrics.precision_score(Y_test, Y_predict, labels=np.unique(Y_predict))\n",
    "    recall = metrics.recall_score(Y_test, Y_predict, labels=np.unique(Y_predict), pos_label = 1, average = 'binary')\n",
    "    confu_matrix = confusion_matrix(Y_test, Y_predict)\n",
    "    f1 = f1_score(Y_test, predictions)\n",
    "    #print(classification_report(Y_test, Y_predict))\n",
    "    \n",
    "    return accuracy, precision, recall, confu_matrix, f1"
   ]
  },
  {
   "cell_type": "code",
   "execution_count": null,
   "id": "4d36c9b7",
   "metadata": {},
   "outputs": [],
   "source": []
  },
  {
   "cell_type": "code",
   "execution_count": null,
   "id": "2e940cf3",
   "metadata": {},
   "outputs": [],
   "source": []
  },
  {
   "cell_type": "markdown",
   "id": "fc73fe7b",
   "metadata": {},
   "source": [
    "### Get Random Sample Numbers Generated for Testing"
   ]
  },
  {
   "cell_type": "code",
   "execution_count": 29,
   "id": "7a00e1a5",
   "metadata": {},
   "outputs": [],
   "source": [
    "def get_random_samp(model_nums):\n",
    "    list = genfromtxt('random_'+ str(model_nums) + '_test.csv', delimiter=',')\n",
    "    list = [int(list) for list in list]\n",
    "    return list"
   ]
  },
  {
   "cell_type": "code",
   "execution_count": null,
   "id": "fc6070ac",
   "metadata": {},
   "outputs": [],
   "source": []
  },
  {
   "cell_type": "code",
   "execution_count": null,
   "id": "9c8239df",
   "metadata": {},
   "outputs": [],
   "source": []
  },
  {
   "cell_type": "code",
   "execution_count": null,
   "id": "e2fd8e56",
   "metadata": {},
   "outputs": [],
   "source": []
  },
  {
   "cell_type": "markdown",
   "id": "1a7e54df",
   "metadata": {},
   "source": [
    "# Code"
   ]
  },
  {
   "cell_type": "code",
   "execution_count": 140,
   "id": "c2856750",
   "metadata": {},
   "outputs": [],
   "source": [
    "feature_data = pd.read_csv('C:/directory to feature table', header=0)\n"
   ]
  },
  {
   "cell_type": "code",
   "execution_count": 141,
   "id": "9a45fefd",
   "metadata": {},
   "outputs": [],
   "source": [
    "problem_files = [373, 444, 451, 458, 480]\n",
    "feature_data = feature_data[~feature_data['patient_id'].isin(problem_files)]\n"
   ]
  },
  {
   "cell_type": "code",
   "execution_count": 144,
   "id": "33e78838",
   "metadata": {},
   "outputs": [
    {
     "data": {
      "text/html": [
       "<div>\n",
       "<style scoped>\n",
       "    .dataframe tbody tr th:only-of-type {\n",
       "        vertical-align: middle;\n",
       "    }\n",
       "\n",
       "    .dataframe tbody tr th {\n",
       "        vertical-align: top;\n",
       "    }\n",
       "\n",
       "    .dataframe thead th {\n",
       "        text-align: right;\n",
       "    }\n",
       "</style>\n",
       "<table border=\"1\" class=\"dataframe\">\n",
       "  <thead>\n",
       "    <tr style=\"text-align: right;\">\n",
       "      <th></th>\n",
       "      <th>patient_id</th>\n",
       "      <th>data_set</th>\n",
       "      <th>PHQ8_Binary</th>\n",
       "      <th>PHQ8_Score</th>\n",
       "      <th>Gender</th>\n",
       "      <th>duration</th>\n",
       "      <th>meanF0Hz</th>\n",
       "      <th>stdevF0Hz</th>\n",
       "      <th>F0_min</th>\n",
       "      <th>F0_max</th>\n",
       "      <th>...</th>\n",
       "      <th>overlap_sd</th>\n",
       "      <th>response_no_overlap_mean</th>\n",
       "      <th>response_no_overlap_sd</th>\n",
       "      <th>mfcc_mean</th>\n",
       "      <th>dmfcc_mean</th>\n",
       "      <th>dmfcc2_mean</th>\n",
       "      <th>mfcc_sd</th>\n",
       "      <th>dmfcc_sd</th>\n",
       "      <th>dmfcc2_sd</th>\n",
       "      <th>vitality_comp</th>\n",
       "    </tr>\n",
       "  </thead>\n",
       "  <tbody>\n",
       "    <tr>\n",
       "      <th>0</th>\n",
       "      <td>300</td>\n",
       "      <td>2</td>\n",
       "      <td>0</td>\n",
       "      <td>2</td>\n",
       "      <td>1</td>\n",
       "      <td>377.89252</td>\n",
       "      <td>114.95738</td>\n",
       "      <td>18.419115</td>\n",
       "      <td>75.773140</td>\n",
       "      <td>193.43211</td>\n",
       "      <td>...</td>\n",
       "      <td>0.275000</td>\n",
       "      <td>1.673393</td>\n",
       "      <td>1.770900</td>\n",
       "      <td>-21.241138</td>\n",
       "      <td>-0.000123</td>\n",
       "      <td>-0.000038</td>\n",
       "      <td>124.36758</td>\n",
       "      <td>2.230383</td>\n",
       "      <td>1.145774</td>\n",
       "      <td>3.176911</td>\n",
       "    </tr>\n",
       "    <tr>\n",
       "      <th>1</th>\n",
       "      <td>301</td>\n",
       "      <td>2</td>\n",
       "      <td>0</td>\n",
       "      <td>3</td>\n",
       "      <td>1</td>\n",
       "      <td>619.81213</td>\n",
       "      <td>100.59131</td>\n",
       "      <td>14.749512</td>\n",
       "      <td>75.052600</td>\n",
       "      <td>193.79599</td>\n",
       "      <td>...</td>\n",
       "      <td>1.086428</td>\n",
       "      <td>0.823778</td>\n",
       "      <td>0.631831</td>\n",
       "      <td>-20.372528</td>\n",
       "      <td>0.000018</td>\n",
       "      <td>-0.000107</td>\n",
       "      <td>129.51184</td>\n",
       "      <td>4.411957</td>\n",
       "      <td>2.452922</td>\n",
       "      <td>16.352130</td>\n",
       "    </tr>\n",
       "    <tr>\n",
       "      <th>2</th>\n",
       "      <td>302</td>\n",
       "      <td>1</td>\n",
       "      <td>0</td>\n",
       "      <td>4</td>\n",
       "      <td>1</td>\n",
       "      <td>479.12192</td>\n",
       "      <td>104.84063</td>\n",
       "      <td>15.249907</td>\n",
       "      <td>75.586430</td>\n",
       "      <td>293.78955</td>\n",
       "      <td>...</td>\n",
       "      <td>0.020000</td>\n",
       "      <td>1.888569</td>\n",
       "      <td>1.223987</td>\n",
       "      <td>-24.371666</td>\n",
       "      <td>0.000015</td>\n",
       "      <td>0.000020</td>\n",
       "      <td>146.13037</td>\n",
       "      <td>2.359840</td>\n",
       "      <td>1.319462</td>\n",
       "      <td>8.270643</td>\n",
       "    </tr>\n",
       "    <tr>\n",
       "      <th>3</th>\n",
       "      <td>303</td>\n",
       "      <td>0</td>\n",
       "      <td>0</td>\n",
       "      <td>0</td>\n",
       "      <td>0</td>\n",
       "      <td>706.43250</td>\n",
       "      <td>92.98882</td>\n",
       "      <td>13.235550</td>\n",
       "      <td>75.203290</td>\n",
       "      <td>249.10090</td>\n",
       "      <td>...</td>\n",
       "      <td>0.016394</td>\n",
       "      <td>0.925660</td>\n",
       "      <td>1.454228</td>\n",
       "      <td>-23.950320</td>\n",
       "      <td>-0.000029</td>\n",
       "      <td>-0.000022</td>\n",
       "      <td>132.73380</td>\n",
       "      <td>3.880318</td>\n",
       "      <td>2.247287</td>\n",
       "      <td>16.212366</td>\n",
       "    </tr>\n",
       "    <tr>\n",
       "      <th>4</th>\n",
       "      <td>305</td>\n",
       "      <td>0</td>\n",
       "      <td>0</td>\n",
       "      <td>7</td>\n",
       "      <td>1</td>\n",
       "      <td>1434.91410</td>\n",
       "      <td>104.02197</td>\n",
       "      <td>16.020813</td>\n",
       "      <td>74.990685</td>\n",
       "      <td>231.61943</td>\n",
       "      <td>...</td>\n",
       "      <td>0.135403</td>\n",
       "      <td>1.017273</td>\n",
       "      <td>1.340212</td>\n",
       "      <td>-8.117284</td>\n",
       "      <td>-0.000032</td>\n",
       "      <td>-0.000001</td>\n",
       "      <td>94.01049</td>\n",
       "      <td>3.167621</td>\n",
       "      <td>1.586335</td>\n",
       "      <td>2.623151</td>\n",
       "    </tr>\n",
       "  </tbody>\n",
       "</table>\n",
       "<p>5 rows × 296 columns</p>\n",
       "</div>"
      ],
      "text/plain": [
       "   patient_id  data_set  PHQ8_Binary  PHQ8_Score  Gender    duration  \\\n",
       "0         300         2            0           2       1   377.89252   \n",
       "1         301         2            0           3       1   619.81213   \n",
       "2         302         1            0           4       1   479.12192   \n",
       "3         303         0            0           0       0   706.43250   \n",
       "4         305         0            0           7       1  1434.91410   \n",
       "\n",
       "    meanF0Hz  stdevF0Hz     F0_min     F0_max  ...  overlap_sd  \\\n",
       "0  114.95738  18.419115  75.773140  193.43211  ...    0.275000   \n",
       "1  100.59131  14.749512  75.052600  193.79599  ...    1.086428   \n",
       "2  104.84063  15.249907  75.586430  293.78955  ...    0.020000   \n",
       "3   92.98882  13.235550  75.203290  249.10090  ...    0.016394   \n",
       "4  104.02197  16.020813  74.990685  231.61943  ...    0.135403   \n",
       "\n",
       "   response_no_overlap_mean  response_no_overlap_sd  mfcc_mean  dmfcc_mean  \\\n",
       "0                  1.673393                1.770900 -21.241138   -0.000123   \n",
       "1                  0.823778                0.631831 -20.372528    0.000018   \n",
       "2                  1.888569                1.223987 -24.371666    0.000015   \n",
       "3                  0.925660                1.454228 -23.950320   -0.000029   \n",
       "4                  1.017273                1.340212  -8.117284   -0.000032   \n",
       "\n",
       "   dmfcc2_mean    mfcc_sd  dmfcc_sd  dmfcc2_sd  vitality_comp  \n",
       "0    -0.000038  124.36758  2.230383   1.145774       3.176911  \n",
       "1    -0.000107  129.51184  4.411957   2.452922      16.352130  \n",
       "2     0.000020  146.13037  2.359840   1.319462       8.270643  \n",
       "3    -0.000022  132.73380  3.880318   2.247287      16.212366  \n",
       "4    -0.000001   94.01049  3.167621   1.586335       2.623151  \n",
       "\n",
       "[5 rows x 296 columns]"
      ]
     },
     "execution_count": 144,
     "metadata": {},
     "output_type": "execute_result"
    }
   ],
   "source": [
    "feature_data['vitality_comp'] = feature_data['HNR']*0.4 + 0.6*feature_data['spec_cen_mean_mF0dsd']\n",
    "feature_data.head()\n"
   ]
  },
  {
   "cell_type": "code",
   "execution_count": null,
   "id": "5857f12b",
   "metadata": {},
   "outputs": [],
   "source": []
  },
  {
   "cell_type": "code",
   "execution_count": null,
   "id": "d289b67b",
   "metadata": {},
   "outputs": [],
   "source": []
  },
  {
   "cell_type": "code",
   "execution_count": null,
   "id": "e0d7e964",
   "metadata": {},
   "outputs": [],
   "source": [
    "pd.options.display.max_rows = 4000\n"
   ]
  },
  {
   "cell_type": "code",
   "execution_count": 165,
   "id": "dd42bc0f",
   "metadata": {},
   "outputs": [],
   "source": [
    "## switches, 1 is yes\n",
    "reset_tables = 0 #1 earases all past data, best to manual reset\n",
    "file_iteration = \"model_prepped_data_Ellie_Lit_Removed_082722_reduced.csv\"\n",
    "notes_cell = \"none\"\n",
    "base_feature_group = 'basic_vital'\n",
    "pca_switch = 0\n",
    "scale_switch = 1\n",
    "emotion_feature = 0\n",
    "#downsampling is apart of ext_MDD, they should not be ranned together\n",
    "#downsampling and offical test split_switch are also not compatable at present\n",
    "downsample = \"normal\" # \"gender_dep\", \"normal\", \"none\"\n",
    "split_switch = '8020' # '9010', '8020', '7030', 'ext_MDD', 'leaveOout', 'offical'\n",
    "\n",
    "feature_selector = 'none'\n",
    "models = [ \"linear\", \"poly\", \"MLR\"] # \"linear\", 'rbf', 'poly', 'sig', 'MLR'\n",
    "num_models = 100 # 100, 500, 1000 are the only ones already generated"
   ]
  },
  {
   "cell_type": "code",
   "execution_count": 166,
   "id": "2a4b4100",
   "metadata": {},
   "outputs": [
    {
     "name": "stdout",
     "output_type": "stream",
     "text": [
      "linear\n",
      "poly\n",
      "MLR\n"
     ]
    }
   ],
   "source": [
    "import warnings\n",
    "warnings.filterwarnings('ignore')\n",
    "\n",
    "if reset_tables == 1:\n",
    "    test = 0\n",
    "    results_agg = pd.DataFrame(columns = [\"Model\", \"Model_Count\", \"Data_Split\",\"Recall_mean\", \"Percision_mean\",\"f1_mean\", \n",
    "                                          \"Accuracy_mean\", \"pca_switch\",\"Feature_Selector\", \"Downsample_switch\", \n",
    "                                          \"base_feature_group\", \"file_used\", \"notes\"])\n",
    "\n",
    "    linear_results = pd.DataFrame(columns = [\"Model\", \"Model_Count\", \"Data_Split\", \"accuracy\", \"precision\", \"recall\", \"f1_score\",\n",
    "                                             \"TN\", \"FP\", \"FN\", \"TP\", \"pca_switch\",\n",
    "                                            \"Feature_Selector\", \"scale_switch\", \"Downsample_switch\", \"base_feature_group\",\n",
    "                                             \"file_used\", \"notes\"])\n",
    "    rbf_results = pd.DataFrame(columns = [\"Model\", \"Model_Count\", \"Data_Split\", \"accuracy\", \"precision\", \"recall\", \"f1_score\",\n",
    "                                             \"TN\", \"FP\", \"FN\", \"TP\", \"pca_switch\",\n",
    "                                            \"Feature_Selector\", \"scale_switch\", \"Downsample_switch\", \"base_feature_group\",\n",
    "                                             \"file_used\", \"notes\"])\n",
    "    poly_results = pd.DataFrame(columns = [\"Model\", \"Model_Count\", \"Data_Split\", \"accuracy\", \"precision\", \"recall\", \"f1_score\",\n",
    "                                             \"TN\", \"FP\", \"FN\", \"TP\", \"pca_switch\",\n",
    "                                            \"Feature_Selector\", \"scale_switch\", \"Downsample_switch\", \"base_feature_group\",\n",
    "                                             \"file_used\", \"notes\"])\n",
    "    sig_results = pd.DataFrame(columns = [\"Model\", \"Model_Count\", \"Data_Split\", \"accuracy\", \"precision\", \"recall\", \"f1_score\",\n",
    "                                             \"TN\", \"FP\", \"FN\", \"TP\", \"pca_switch\",\n",
    "                                            \"Feature_Selector\", \"scale_switch\", \"Downsample_switch\", \"base_feature_group\",\n",
    "                                             \"file_used\", \"notes\"])\n",
    "    MLR_results = pd.DataFrame(columns = [\"Model\", \"Model_Count\", \"Data_Split\", \"accuracy\", \"precision\", \"recall\", \"f1_score\",\n",
    "                                             \"TN\", \"FP\", \"FN\", \"TP\", \"pca_switch\",\n",
    "                                            \"Feature_Selector\", \"scale_switch\", \"Downsample_switch\", \"base_feature_group\",\n",
    "                                             \"file_used\", \"notes\"])\n",
    "\n",
    "test = test+1\n",
    "\n",
    "for m in models:\n",
    "    print(m)\n",
    "    accuracy_list =[]\n",
    "    precision_list = []\n",
    "    recall_list = []\n",
    "    confu_matrix_list = []\n",
    "    f1_list = []\n",
    "    c=100\n",
    "\n",
    "    random_sample_list = get_random_samp(num_models)\n",
    "\n",
    "    count = 0\n",
    "    iteration = 1\n",
    "    for i in random_sample_list:\n",
    "        \n",
    "\n",
    "            \n",
    "        # groups of columns to test, goes to functions that extract specific columns from feature set.\n",
    "        \n",
    "        if base_feature_group == 'COVERAP':\n",
    "            feature_base_group = Co_feature_group(feature_data)\n",
    "        elif base_feature_group =='basic':\n",
    "            feature_base_group = feature_basic_set(feature_data)\n",
    "        elif base_feature_group == 'full':\n",
    "            feature_base_group = feature_data\n",
    "        elif base_feature_group == 'basic_plus':\n",
    "            feature_base_group = basic_set_plus(feature_data)\n",
    "        elif base_feature_group == 'basic_vital':\n",
    "            feature_base_group = basic_set_viatal(feature_data)\n",
    "\n",
    "        emotion_feature_group =  feature_data[[\"patient_id\", \"PHQ8_Binary\",\"PHQ8_Score\", \"Gender\", \"data_set\", \"stdevF0Hz\",\n",
    "                                    \"response_dur_mean\", \"response_dur_sd\", \"spec_cen_mean_relF0\", \"mean_F0_Range_rel_mean\",\n",
    "                                   \"Band1_spec_eng_perct\", \"Band2_spec_eng_perct\", \"Band3_spec_eng_perct\", \"Band4_spec_eng_perct\", \n",
    "                                              \"f2_mean\", \"f3_mean\", \"f1_sd\" ,\"f2_sd\", \"max_rel_F0grad_o_mean\", \"F0_absRange_mean\", \n",
    "                                               \"spec_cen_sd_relF0\", \"avgFormant\"]] \n",
    "        \n",
    "        if split_switch == '8020':\n",
    "            (X_train, X_test, Y_train, Y_test) = random_data_nd_8020(feature_base_group, i)\n",
    "            (X_train_ef, X_test_ef, Y_train_ef, Y_test_ef) = random_data_nd_8020(emotion_feature_group ,i)\n",
    "        elif split_switch == '7030':\n",
    "            (X_train, X_test, Y_train, Y_test) = random_data_nd_7030(feature_base_group, i)\n",
    "            (X_train_ef, X_test_ef, Y_train_ef, Y_test_ef) = random_data_nd_7030(emotion_feature_group ,i)\n",
    "        elif split_switch == '9010':\n",
    "            (X_train, X_test, Y_train, Y_test) = random_data_nd_9010(feature_base_group, i)\n",
    "        elif split_switch == 'ext_MDD':\n",
    "            (X_train, X_test, Y_train, Y_test) = extreme_mdd_marks7030 (feature_base_group,  i)\n",
    "            split_switch = 'ext_MDD_7030'\n",
    "        elif split_switch == 'Laso':\n",
    "            print(\"forgot me\")\n",
    "        elif split_switch == 'offical':\n",
    "            (X_train, X_test, Y_train, Y_test) = benchmark_split (feature_base_group)\n",
    "            (X_train_ef, X_test_ef, Y_train_ef, Y_test_ef) = benchmark_split(emotion_feature_group)\n",
    "\n",
    "        elif split_switch =='leaveOout':\n",
    "                X_train = feature_data.drop([\"PHQ8_Binary\",\"PHQ8_Score\",  \"data_set\", \"patient_id\"], axis=1)\n",
    "                Y_test = feature_data['PHQ8_Binary']\n",
    "        \n",
    "        if emotion_feature == 1:\n",
    "            X_train_ef = X_train_ef.drop([\"Gender\"], axis = 1)\n",
    "            (X_train_feature, X_test_feature ) = emotion_features(X_train_ef, X_test_ef)   \n",
    "            X_train_feature = [float(y) for y in X_train_feature]\n",
    "            X_test_feature = [float(y) for y in X_test_feature]\n",
    "\n",
    "            X_train['emotional_pca_feature'] = X_train_feature\n",
    "            X_test['emotional_pca_feature'] = X_test_feature\n",
    "                \n",
    "                \n",
    "        if downsample == \"normal\":\n",
    "            X_train, Y_train  = downsampling_post_split(X_train, Y_train, i)\n",
    "        elif downsample == \"gender_dep\":\n",
    "            X_train, Y_train  = downsampling_gender(X_train, Y_train, i)\n",
    "        elif downsample == \"none\":\n",
    "            X_train, Y_train = X_train, Y_train           \n",
    "        \n",
    "        X_train= X_train.drop([\"Gender\"], axis=1)\n",
    "         \n",
    "\n",
    "            \n",
    "            \n",
    "        if split_switch != 'leaveOout':\n",
    " \n",
    "            if feature_selector == 'lasso':\n",
    "                #testfeatures = lasso_selector(X_train, Y_train)\n",
    "                (X_train, X_test) = lasso_fitter(X_train, X_test, testfeatures)\n",
    "                \n",
    "            if scale_switch == 1:\n",
    "                (X_trainS, X_testS) = scale_data(X_train, X_test)\n",
    "\n",
    "            if feature_selector == 'anova':\n",
    "                cols = anova_param_search(X_trainS, Y_train)\n",
    "                (X_trainS, Y_train, X_testS, col_inx) = anova_selector(X_trainS, Y_train, X_testS)     \n",
    "\n",
    "                \n",
    "            if feature_selector =='chi':\n",
    "                (X_trainS, Y_train, X_testS, col_inx) = chi_selector (X_trainS, Y_train, X_testS)    \n",
    "                print(column_names)\n",
    "\n",
    "            if pca_switch == 1:\n",
    "                (X_trainS, X_testS) = pca_training (X_trainS, X_testS)\n",
    "\n",
    "\n",
    "            # Predictions\n",
    "            if m == \"linear\":\n",
    "                predictions = SVM_linear_prediction(X_trainS, Y_train, X_testS, Y_test)\n",
    "            elif m == \"rbf\":\n",
    "                predictions = SVM_rbf_prediction(X_trainS, Y_train, X_testS, Y_test)\n",
    "            elif m == \"poly\":\n",
    "                predictions = SVM_poly_prediction(X_trainS, Y_train, X_testS, Y_test)\n",
    "            elif m == \"sig\":\n",
    "                predictions = SVM_sig_prediction(X_trainS, Y_train, X_testS, Y_test)\n",
    "            elif m == \"MLR\":\n",
    "                predictions = logistic_regression_prediction(X_trainS, Y_train, X_testS, Y_test)\n",
    "            elif m == 'sgr':\n",
    "                predictions = stochastic_grad_prediction(X_trainS, Y_train, X_testS, Y_test)\n",
    "\n",
    "        elif split_switch == 'leaveOout':\n",
    "            feature_selector = 'none_LoO'\n",
    "            pca_switch = 0\n",
    "            scale_switch = 1\n",
    "            (X_train) = scale_data(X_train, pd.DataFrame())\n",
    "            if m == \"linear\":\n",
    "                predictions = SVM_linear_LoO(X_train, Y_test)\n",
    "            elif m == \"poly\":\n",
    "                predictions = SVM_poly_LoOn(X_train, Y_test)\n",
    "            elif m == \"MLR\":\n",
    "                predictions = logistic_regression_LoO(X_train, Y_test)\n",
    "\n",
    "                \n",
    "        #performance metrics per model iteration       \n",
    "        (accuracy, precision, recall, confu_matrix, f1) = performance_metrics(predictions, Y_test)\n",
    "\n",
    "        accuracy_list.append(accuracy)\n",
    "        precision_list.append(precision)\n",
    "        recall_list.append(recall)\n",
    "        f1_list.append(f1)\n",
    "        confu_matrix_list.append(confu_matrix)\n",
    "        \n",
    "\n",
    "        # iteration results\n",
    "        \n",
    "        iteration_data = pd.Series(data = [test, iteration, m, c, split_switch, accuracy, precision, recall, f1, \n",
    "                                           confu_matrix[0][0], confu_matrix[0][1], confu_matrix[1][0], confu_matrix[1][1],\n",
    "                                          pca_switch, feature_selector, scale_switch, downsample, base_feature_group,\n",
    "                                          file_iteration, notes_cell], \n",
    "                                           index = [\"Test\", \"Iteration\", \"Model\", \"Model_Count\", \"Data_Split\", \"accuracy\", \"precision\", \n",
    "                                                    \"recall\", \"f1_score\",\"TN\", \"FP\", \"FN\", \"TP\", \"pca_switch\",\n",
    "                                                \"Feature_Selector\", \"scale_switch\", \"Downsample_switch\", \"base_feature_group\",\n",
    "                                                    \"file_used\", \"notes\"])\n",
    "        if m == \"linear\":\n",
    "            linear_results = linear_results.append(iteration_data, ignore_index = True)\n",
    "        elif m == \"rbf\":\n",
    "            rbf_results = rbf_results.append(iteration_data, ignore_index = True)\n",
    "        elif m == \"poly\":\n",
    "            poly_results = poly_results.append(iteration_data, ignore_index = True)\n",
    "        elif m == \"sig\":\n",
    "            sig_results = sig_results.append(iteration_data, ignore_index = True)\n",
    "        elif m == \"MLR\":\n",
    "            MLR_results = MLR_results.append(iteration_data, ignore_index = True)\n",
    "\n",
    "        iteration = iteration + 1\n",
    "        if split_switch == 'leaveOout' or split_switch == 'offical':\n",
    "            break\n",
    "            \n",
    "\n",
    "    results_df = pd.Series(data = [test, m, c, split_switch, statistics.mean(recall_list), statistics.mean(precision_list), \n",
    "                                   statistics.mean(f1_list), statistics.mean(accuracy_list), pca_switch, \n",
    "                                   feature_selector, downsample, base_feature_group,\n",
    "                                    file_iteration, emotion_feature, notes_cell], \n",
    "                                   index= [\"Test\", \"Model\", \"Model_Count\", \"Data_Split\",\n",
    "                                        \"Recall_mean\",  \"Percision_mean\",\"f1_mean\", \n",
    "                                      \"Accuracy_mean\", \"pca_switch\",\"Feature_Selector\", \"Downsample_switch\", \n",
    "                                      \"base_feature_group\", \"file_used\", \"emotion_add\", \"notes\"])\n",
    "    results_agg = results_agg.append(results_df, ignore_index = True)\n",
    "\n",
    "\n"
   ]
  },
  {
   "cell_type": "code",
   "execution_count": 167,
   "id": "603c05bd",
   "metadata": {
    "scrolled": false
   },
   "outputs": [
    {
     "data": {
      "text/html": [
       "<div>\n",
       "<style scoped>\n",
       "    .dataframe tbody tr th:only-of-type {\n",
       "        vertical-align: middle;\n",
       "    }\n",
       "\n",
       "    .dataframe tbody tr th {\n",
       "        vertical-align: top;\n",
       "    }\n",
       "\n",
       "    .dataframe thead th {\n",
       "        text-align: right;\n",
       "    }\n",
       "</style>\n",
       "<table border=\"1\" class=\"dataframe\">\n",
       "  <thead>\n",
       "    <tr style=\"text-align: right;\">\n",
       "      <th></th>\n",
       "      <th>Model</th>\n",
       "      <th>Model_Count</th>\n",
       "      <th>Data_Split</th>\n",
       "      <th>Recall_mean</th>\n",
       "      <th>Percision_mean</th>\n",
       "      <th>f1_mean</th>\n",
       "      <th>Accuracy_mean</th>\n",
       "      <th>pca_switch</th>\n",
       "      <th>Feature_Selector</th>\n",
       "      <th>Downsample_switch</th>\n",
       "      <th>base_feature_group</th>\n",
       "      <th>file_used</th>\n",
       "      <th>notes</th>\n",
       "      <th>Test</th>\n",
       "      <th>emotion_add</th>\n",
       "    </tr>\n",
       "  </thead>\n",
       "  <tbody>\n",
       "    <tr>\n",
       "      <th>0</th>\n",
       "      <td>linear</td>\n",
       "      <td>100</td>\n",
       "      <td>8020</td>\n",
       "      <td>0.545000</td>\n",
       "      <td>0.341201</td>\n",
       "      <td>0.411992</td>\n",
       "      <td>0.510270</td>\n",
       "      <td>0</td>\n",
       "      <td>none</td>\n",
       "      <td>normal</td>\n",
       "      <td>basic</td>\n",
       "      <td>model_prepped_data_Ellie_Lit_Removed_082722_re...</td>\n",
       "      <td>none</td>\n",
       "      <td>1.0</td>\n",
       "      <td>0.0</td>\n",
       "    </tr>\n",
       "    <tr>\n",
       "      <th>1</th>\n",
       "      <td>poly</td>\n",
       "      <td>100</td>\n",
       "      <td>8020</td>\n",
       "      <td>0.495000</td>\n",
       "      <td>0.300831</td>\n",
       "      <td>0.370206</td>\n",
       "      <td>0.468919</td>\n",
       "      <td>0</td>\n",
       "      <td>none</td>\n",
       "      <td>normal</td>\n",
       "      <td>basic</td>\n",
       "      <td>model_prepped_data_Ellie_Lit_Removed_082722_re...</td>\n",
       "      <td>none</td>\n",
       "      <td>1.0</td>\n",
       "      <td>0.0</td>\n",
       "    </tr>\n",
       "    <tr>\n",
       "      <th>2</th>\n",
       "      <td>MLR</td>\n",
       "      <td>100</td>\n",
       "      <td>8020</td>\n",
       "      <td>0.525833</td>\n",
       "      <td>0.342589</td>\n",
       "      <td>0.411302</td>\n",
       "      <td>0.520270</td>\n",
       "      <td>0</td>\n",
       "      <td>none</td>\n",
       "      <td>normal</td>\n",
       "      <td>basic</td>\n",
       "      <td>model_prepped_data_Ellie_Lit_Removed_082722_re...</td>\n",
       "      <td>none</td>\n",
       "      <td>1.0</td>\n",
       "      <td>0.0</td>\n",
       "    </tr>\n",
       "    <tr>\n",
       "      <th>3</th>\n",
       "      <td>linear</td>\n",
       "      <td>100</td>\n",
       "      <td>8020</td>\n",
       "      <td>0.529167</td>\n",
       "      <td>0.351348</td>\n",
       "      <td>0.416662</td>\n",
       "      <td>0.526486</td>\n",
       "      <td>0</td>\n",
       "      <td>none</td>\n",
       "      <td>normal</td>\n",
       "      <td>basic</td>\n",
       "      <td>model_prepped_data_Ellie_Lit_Removed_082722_re...</td>\n",
       "      <td>none</td>\n",
       "      <td>2.0</td>\n",
       "      <td>1.0</td>\n",
       "    </tr>\n",
       "    <tr>\n",
       "      <th>4</th>\n",
       "      <td>poly</td>\n",
       "      <td>100</td>\n",
       "      <td>8020</td>\n",
       "      <td>0.485000</td>\n",
       "      <td>0.300542</td>\n",
       "      <td>0.367022</td>\n",
       "      <td>0.468649</td>\n",
       "      <td>0</td>\n",
       "      <td>none</td>\n",
       "      <td>normal</td>\n",
       "      <td>basic</td>\n",
       "      <td>model_prepped_data_Ellie_Lit_Removed_082722_re...</td>\n",
       "      <td>none</td>\n",
       "      <td>2.0</td>\n",
       "      <td>1.0</td>\n",
       "    </tr>\n",
       "    <tr>\n",
       "      <th>5</th>\n",
       "      <td>MLR</td>\n",
       "      <td>100</td>\n",
       "      <td>8020</td>\n",
       "      <td>0.514167</td>\n",
       "      <td>0.346909</td>\n",
       "      <td>0.410330</td>\n",
       "      <td>0.526757</td>\n",
       "      <td>0</td>\n",
       "      <td>none</td>\n",
       "      <td>normal</td>\n",
       "      <td>basic</td>\n",
       "      <td>model_prepped_data_Ellie_Lit_Removed_082722_re...</td>\n",
       "      <td>none</td>\n",
       "      <td>2.0</td>\n",
       "      <td>1.0</td>\n",
       "    </tr>\n",
       "    <tr>\n",
       "      <th>6</th>\n",
       "      <td>linear</td>\n",
       "      <td>100</td>\n",
       "      <td>8020</td>\n",
       "      <td>0.368333</td>\n",
       "      <td>0.461866</td>\n",
       "      <td>0.374737</td>\n",
       "      <td>0.629459</td>\n",
       "      <td>0</td>\n",
       "      <td>lasso</td>\n",
       "      <td>normal</td>\n",
       "      <td>full</td>\n",
       "      <td>model_prepped_data_Ellie_Lit_Removed_082722_re...</td>\n",
       "      <td>none</td>\n",
       "      <td>4.0</td>\n",
       "      <td>1.0</td>\n",
       "    </tr>\n",
       "    <tr>\n",
       "      <th>7</th>\n",
       "      <td>poly</td>\n",
       "      <td>100</td>\n",
       "      <td>8020</td>\n",
       "      <td>0.521667</td>\n",
       "      <td>0.405196</td>\n",
       "      <td>0.410412</td>\n",
       "      <td>0.564324</td>\n",
       "      <td>0</td>\n",
       "      <td>lasso</td>\n",
       "      <td>normal</td>\n",
       "      <td>full</td>\n",
       "      <td>model_prepped_data_Ellie_Lit_Removed_082722_re...</td>\n",
       "      <td>none</td>\n",
       "      <td>4.0</td>\n",
       "      <td>1.0</td>\n",
       "    </tr>\n",
       "    <tr>\n",
       "      <th>8</th>\n",
       "      <td>MLR</td>\n",
       "      <td>100</td>\n",
       "      <td>8020</td>\n",
       "      <td>0.501667</td>\n",
       "      <td>0.412177</td>\n",
       "      <td>0.444599</td>\n",
       "      <td>0.600541</td>\n",
       "      <td>0</td>\n",
       "      <td>lasso</td>\n",
       "      <td>normal</td>\n",
       "      <td>full</td>\n",
       "      <td>model_prepped_data_Ellie_Lit_Removed_082722_re...</td>\n",
       "      <td>none</td>\n",
       "      <td>4.0</td>\n",
       "      <td>1.0</td>\n",
       "    </tr>\n",
       "    <tr>\n",
       "      <th>9</th>\n",
       "      <td>linear</td>\n",
       "      <td>100</td>\n",
       "      <td>8020</td>\n",
       "      <td>0.470000</td>\n",
       "      <td>0.374416</td>\n",
       "      <td>0.408771</td>\n",
       "      <td>0.567568</td>\n",
       "      <td>0</td>\n",
       "      <td>none</td>\n",
       "      <td>normal</td>\n",
       "      <td>basic_plus</td>\n",
       "      <td>model_prepped_data_Ellie_Lit_Removed_082722_re...</td>\n",
       "      <td>none</td>\n",
       "      <td>5.0</td>\n",
       "      <td>0.0</td>\n",
       "    </tr>\n",
       "    <tr>\n",
       "      <th>10</th>\n",
       "      <td>poly</td>\n",
       "      <td>100</td>\n",
       "      <td>8020</td>\n",
       "      <td>0.459167</td>\n",
       "      <td>0.326658</td>\n",
       "      <td>0.376826</td>\n",
       "      <td>0.519730</td>\n",
       "      <td>0</td>\n",
       "      <td>none</td>\n",
       "      <td>normal</td>\n",
       "      <td>basic_plus</td>\n",
       "      <td>model_prepped_data_Ellie_Lit_Removed_082722_re...</td>\n",
       "      <td>none</td>\n",
       "      <td>5.0</td>\n",
       "      <td>0.0</td>\n",
       "    </tr>\n",
       "    <tr>\n",
       "      <th>11</th>\n",
       "      <td>MLR</td>\n",
       "      <td>100</td>\n",
       "      <td>8020</td>\n",
       "      <td>0.511667</td>\n",
       "      <td>0.372367</td>\n",
       "      <td>0.426165</td>\n",
       "      <td>0.560270</td>\n",
       "      <td>0</td>\n",
       "      <td>none</td>\n",
       "      <td>normal</td>\n",
       "      <td>basic_plus</td>\n",
       "      <td>model_prepped_data_Ellie_Lit_Removed_082722_re...</td>\n",
       "      <td>none</td>\n",
       "      <td>5.0</td>\n",
       "      <td>0.0</td>\n",
       "    </tr>\n",
       "    <tr>\n",
       "      <th>12</th>\n",
       "      <td>linear</td>\n",
       "      <td>100</td>\n",
       "      <td>8020</td>\n",
       "      <td>0.541667</td>\n",
       "      <td>0.340318</td>\n",
       "      <td>0.411746</td>\n",
       "      <td>0.511622</td>\n",
       "      <td>0</td>\n",
       "      <td>none</td>\n",
       "      <td>normal</td>\n",
       "      <td>basic_vital</td>\n",
       "      <td>model_prepped_data_Ellie_Lit_Removed_082722_re...</td>\n",
       "      <td>none</td>\n",
       "      <td>6.0</td>\n",
       "      <td>0.0</td>\n",
       "    </tr>\n",
       "    <tr>\n",
       "      <th>13</th>\n",
       "      <td>poly</td>\n",
       "      <td>100</td>\n",
       "      <td>8020</td>\n",
       "      <td>0.480000</td>\n",
       "      <td>0.299418</td>\n",
       "      <td>0.365588</td>\n",
       "      <td>0.470811</td>\n",
       "      <td>0</td>\n",
       "      <td>none</td>\n",
       "      <td>normal</td>\n",
       "      <td>basic_vital</td>\n",
       "      <td>model_prepped_data_Ellie_Lit_Removed_082722_re...</td>\n",
       "      <td>none</td>\n",
       "      <td>6.0</td>\n",
       "      <td>0.0</td>\n",
       "    </tr>\n",
       "    <tr>\n",
       "      <th>14</th>\n",
       "      <td>MLR</td>\n",
       "      <td>100</td>\n",
       "      <td>8020</td>\n",
       "      <td>0.516667</td>\n",
       "      <td>0.334652</td>\n",
       "      <td>0.402945</td>\n",
       "      <td>0.513784</td>\n",
       "      <td>0</td>\n",
       "      <td>none</td>\n",
       "      <td>normal</td>\n",
       "      <td>basic_vital</td>\n",
       "      <td>model_prepped_data_Ellie_Lit_Removed_082722_re...</td>\n",
       "      <td>none</td>\n",
       "      <td>6.0</td>\n",
       "      <td>0.0</td>\n",
       "    </tr>\n",
       "  </tbody>\n",
       "</table>\n",
       "</div>"
      ],
      "text/plain": [
       "     Model Model_Count Data_Split  Recall_mean  Percision_mean   f1_mean  \\\n",
       "0   linear         100       8020     0.545000        0.341201  0.411992   \n",
       "1     poly         100       8020     0.495000        0.300831  0.370206   \n",
       "2      MLR         100       8020     0.525833        0.342589  0.411302   \n",
       "3   linear         100       8020     0.529167        0.351348  0.416662   \n",
       "4     poly         100       8020     0.485000        0.300542  0.367022   \n",
       "5      MLR         100       8020     0.514167        0.346909  0.410330   \n",
       "6   linear         100       8020     0.368333        0.461866  0.374737   \n",
       "7     poly         100       8020     0.521667        0.405196  0.410412   \n",
       "8      MLR         100       8020     0.501667        0.412177  0.444599   \n",
       "9   linear         100       8020     0.470000        0.374416  0.408771   \n",
       "10    poly         100       8020     0.459167        0.326658  0.376826   \n",
       "11     MLR         100       8020     0.511667        0.372367  0.426165   \n",
       "12  linear         100       8020     0.541667        0.340318  0.411746   \n",
       "13    poly         100       8020     0.480000        0.299418  0.365588   \n",
       "14     MLR         100       8020     0.516667        0.334652  0.402945   \n",
       "\n",
       "    Accuracy_mean pca_switch Feature_Selector Downsample_switch  \\\n",
       "0        0.510270          0             none            normal   \n",
       "1        0.468919          0             none            normal   \n",
       "2        0.520270          0             none            normal   \n",
       "3        0.526486          0             none            normal   \n",
       "4        0.468649          0             none            normal   \n",
       "5        0.526757          0             none            normal   \n",
       "6        0.629459          0            lasso            normal   \n",
       "7        0.564324          0            lasso            normal   \n",
       "8        0.600541          0            lasso            normal   \n",
       "9        0.567568          0             none            normal   \n",
       "10       0.519730          0             none            normal   \n",
       "11       0.560270          0             none            normal   \n",
       "12       0.511622          0             none            normal   \n",
       "13       0.470811          0             none            normal   \n",
       "14       0.513784          0             none            normal   \n",
       "\n",
       "   base_feature_group                                          file_used  \\\n",
       "0               basic  model_prepped_data_Ellie_Lit_Removed_082722_re...   \n",
       "1               basic  model_prepped_data_Ellie_Lit_Removed_082722_re...   \n",
       "2               basic  model_prepped_data_Ellie_Lit_Removed_082722_re...   \n",
       "3               basic  model_prepped_data_Ellie_Lit_Removed_082722_re...   \n",
       "4               basic  model_prepped_data_Ellie_Lit_Removed_082722_re...   \n",
       "5               basic  model_prepped_data_Ellie_Lit_Removed_082722_re...   \n",
       "6                full  model_prepped_data_Ellie_Lit_Removed_082722_re...   \n",
       "7                full  model_prepped_data_Ellie_Lit_Removed_082722_re...   \n",
       "8                full  model_prepped_data_Ellie_Lit_Removed_082722_re...   \n",
       "9          basic_plus  model_prepped_data_Ellie_Lit_Removed_082722_re...   \n",
       "10         basic_plus  model_prepped_data_Ellie_Lit_Removed_082722_re...   \n",
       "11         basic_plus  model_prepped_data_Ellie_Lit_Removed_082722_re...   \n",
       "12        basic_vital  model_prepped_data_Ellie_Lit_Removed_082722_re...   \n",
       "13        basic_vital  model_prepped_data_Ellie_Lit_Removed_082722_re...   \n",
       "14        basic_vital  model_prepped_data_Ellie_Lit_Removed_082722_re...   \n",
       "\n",
       "   notes  Test  emotion_add  \n",
       "0   none   1.0          0.0  \n",
       "1   none   1.0          0.0  \n",
       "2   none   1.0          0.0  \n",
       "3   none   2.0          1.0  \n",
       "4   none   2.0          1.0  \n",
       "5   none   2.0          1.0  \n",
       "6   none   4.0          1.0  \n",
       "7   none   4.0          1.0  \n",
       "8   none   4.0          1.0  \n",
       "9   none   5.0          0.0  \n",
       "10  none   5.0          0.0  \n",
       "11  none   5.0          0.0  \n",
       "12  none   6.0          0.0  \n",
       "13  none   6.0          0.0  \n",
       "14  none   6.0          0.0  "
      ]
     },
     "execution_count": 167,
     "metadata": {},
     "output_type": "execute_result"
    }
   ],
   "source": [
    "results_agg"
   ]
  },
  {
   "cell_type": "code",
   "execution_count": null,
   "id": "b1382c0d",
   "metadata": {},
   "outputs": [],
   "source": []
  },
  {
   "cell_type": "markdown",
   "id": "da9d469e",
   "metadata": {},
   "source": [
    "#### Round 2,  8020,  downsampling"
   ]
  },
  {
   "cell_type": "code",
   "execution_count": 177,
   "id": "db16515a",
   "metadata": {},
   "outputs": [
    {
     "data": {
      "text/plain": [
       "Text(0, 0.5, 'Count')"
      ]
     },
     "execution_count": 177,
     "metadata": {},
     "output_type": "execute_result"
    },
    {
     "data": {
      "image/png": "[encoded data removed]",
      "text/plain": [
       "<Figure size 432x288 with 1 Axes>"
      ]
     },
     "metadata": {
      "needs_background": "light"
     },
     "output_type": "display_data"
    }
   ],
   "source": [
    "#Test 3, MLR no feature selection, no pca, scaling on,  downsampling, 8020 data split, high accuracy, \n",
    "# no emotion feature added basic alone\n",
    "Recall_MLR_basic_6 = MLR_results['recall'].loc[MLR_results['Test'] == 6].plot(kind = 'hist', color =\"black\")\n",
    "Recall_MLR_basic_6.set_xlabel(\"Recall Score\")\n",
    "Recall_MLR_basic_6.set_ylabel(\"Count\")"
   ]
  },
  {
   "cell_type": "code",
   "execution_count": 178,
   "id": "2c8e8e5f",
   "metadata": {},
   "outputs": [
    {
     "data": {
      "text/plain": [
       "Text(0, 0.5, 'Count')"
      ]
     },
     "execution_count": 178,
     "metadata": {},
     "output_type": "execute_result"
    },
    {
     "data": {
      "image/png": "[encoded data removed]",
      "text/plain": [
       "<Figure size 432x288 with 1 Axes>"
      ]
     },
     "metadata": {
      "needs_background": "light"
     },
     "output_type": "display_data"
    }
   ],
   "source": [
    "#Test 3, SVM Linear no feature selection, no pca, scaling on,  downsampling, 8020 data split, high accuracy, \n",
    "# no emotion feature added basic alone\n",
    "Recall_SVM_basic_6 = linear_results['recall'].loc[linear_results['Test'] == 6].plot(kind = 'hist', color =\"black\")\n",
    "Recall_SVM_basic_6.set_xlabel(\"Recall Score\")\n",
    "Recall_SVM_basic_6.set_ylabel(\"Count\")"
   ]
  },
  {
   "cell_type": "code",
   "execution_count": 78,
   "id": "e3eafa15",
   "metadata": {},
   "outputs": [
    {
     "data": {
      "text/plain": [
       "Text(0, 0.5, 'Count')"
      ]
     },
     "execution_count": 78,
     "metadata": {},
     "output_type": "execute_result"
    },
    {
     "data": {
      "image/png": "[encoded data removed]",
      "text/plain": [
       "<Figure size 432x288 with 1 Axes>"
      ]
     },
     "metadata": {
      "needs_background": "light"
     },
     "output_type": "display_data"
    }
   ],
   "source": [
    "#Test 4, MLR no feature selection, no pca, scaling on,  downsampling, 8020 data split, high accuracy, \n",
    "#  emotion feature added basic alone\n",
    "Recall_MLR_basic_8 = MLR_results['recall'].loc[MLR_results['Test'] == 8].plot(kind = 'hist', color =\"black\")\n",
    "Recall_MLR_basic_8.set_xlabel(\"Recall Score\")\n",
    "Recall_MLR_basic_8.set_ylabel(\"Count\")\n"
   ]
  },
  {
   "cell_type": "code",
   "execution_count": 79,
   "id": "5395cb69",
   "metadata": {},
   "outputs": [
    {
     "data": {
      "text/plain": [
       "Text(0, 0.5, 'Count')"
      ]
     },
     "execution_count": 79,
     "metadata": {},
     "output_type": "execute_result"
    },
    {
     "data": {
      "image/png": "[encoded data removed]",
      "text/plain": [
       "<Figure size 432x288 with 1 Axes>"
      ]
     },
     "metadata": {
      "needs_background": "light"
     },
     "output_type": "display_data"
    }
   ],
   "source": [
    "#Test 4, SVM Linear no feature selection, no pca, scaling on,  downsampling, 8020 data split, high accuracy, \n",
    "#  emotion feature added basic alone\n",
    "Recall_SVM_basic_8 = linear_results['recall'].loc[linear_results['Test'] == 8].plot(kind = 'hist', color =\"black\")\n",
    "Recall_SVM_basic_8.set_xlabel(\"Recall Score\")\n",
    "Recall_SVM_basic_8.set_ylabel(\"Count\")"
   ]
  },
  {
   "cell_type": "code",
   "execution_count": 73,
   "id": "b03ee1a2",
   "metadata": {},
   "outputs": [],
   "source": [
    "SVM_Round2_Results = stats.wilcoxon(linear_results['recall'].loc[linear_results['Test'] == 7], linear_results['recall'].loc[linear_results['Test'] == 8])\n",
    "MLR_Round2_Results = stats.wilcoxon(MLR_results['recall'].loc[MLR_results['Test'] == 7], MLR_results['recall'].loc[MLR_results['Test'] == 8])\n"
   ]
  },
  {
   "cell_type": "code",
   "execution_count": 188,
   "id": "01b13d16",
   "metadata": {},
   "outputs": [
    {
     "data": {
      "text/plain": [
       "WilcoxonResult(statistic=1225.0, pvalue=0.21588382084056867)"
      ]
     },
     "execution_count": 188,
     "metadata": {},
     "output_type": "execute_result"
    }
   ],
   "source": [
    "MLR_Round2_Results"
   ]
  },
  {
   "cell_type": "code",
   "execution_count": 193,
   "id": "93f5b3ea",
   "metadata": {},
   "outputs": [
    {
     "name": "stdout",
     "output_type": "stream",
     "text": [
      "MLR\n",
      "Round 2 MLR Wilcoxon: WilcoxonResult(statistic=193.0, pvalue=0.07179960665365512)\n",
      "Test A Recall Mean: 0.5258333333333334 SD: 0.14636207658927272\n",
      "Test B Recall Mean: 0.5166666666666667 SD: 0.15214515486254615\n",
      "SVM\n",
      "Round 2 SVM Wilcoxon: WilcoxonResult(statistic=177.0, pvalue=0.7720185969766209)\n",
      "Test Aure Recall Mean: 0.545 SD: 0.16851666850651373\n",
      "Test B Recall Mean: 0.5166666666666667 SD: 0.166034153315937\n"
     ]
    }
   ],
   "source": [
    "SVM_Round2_Results = stats.wilcoxon(linear_results['recall'].loc[linear_results['Test'] == 1], \n",
    "                                    linear_results['recall'].loc[linear_results['Test'] == 6])\n",
    "MLR_Round2_Results = stats.wilcoxon(MLR_results['recall'].loc[MLR_results['Test'] == 1],\n",
    "                                    MLR_results['recall'].loc[MLR_results['Test'] == 6])\n",
    "\n",
    "\n",
    "print(\"MLR\")\n",
    "print(\"Round 2 MLR Wilcoxon: \" + str(MLR_Round2_Results))\n",
    "print(\"Test A Recall Mean: \" + str(statistics.mean(MLR_results['recall'].loc[MLR_results['Test'] == 1])\n",
    ") + \" SD: \" + str(statistics.stdev(MLR_results['recall'].loc[MLR_results['Test'] == 1])))\n",
    "\n",
    "print(\"Test B Recall Mean: \" + str(statistics.mean(MLR_results['recall'].loc[MLR_results['Test'] == 6])\n",
    ") + \" SD: \" + str(statistics.stdev(MLR_results['recall'].loc[MLR_results['Test'] == 6])))\n",
    "\n",
    "print(\"SVM\")\n",
    "print(\"Round 2 SVM Wilcoxon: \" + str(SVM_Round2_Results))\n",
    "print(\"Test Aure Recall Mean: \" + str(statistics.mean(linear_results['recall'].loc[linear_results['Test'] == 1])\n",
    ") + \" SD: \" + str(statistics.stdev(linear_results['recall'].loc[linear_results['Test'] == 1])))\n",
    "\n",
    "print(\"Test B Recall Mean: \" + str(statistics.mean(MLR_results['recall'].loc[MLR_results['Test'] == 6])\n",
    ") + \" SD: \" + str(statistics.stdev(linear_results['recall'].loc[linear_results['Test'] == 6])))"
   ]
  },
  {
   "cell_type": "code",
   "execution_count": 75,
   "id": "ca3be81d",
   "metadata": {},
   "outputs": [
    {
     "name": "stdout",
     "output_type": "stream",
     "text": [
      "Round 2 SVM Wilcoxon: WilcoxonResult(statistic=531.0, pvalue=0.04420365151289131)\n",
      "Test with no Emotion Feature Recall Mean: 0.545 SD: 0.16851666850651373\n",
      "Test with Emotion Feature Recall Mean: 0.5141666666666667 SD: 0.14330112785162083\n"
     ]
    }
   ],
   "source": [
    "print(\"Round 2 SVM Wilcoxon: \" + str(SVM_Round2_Results))\n",
    "print(\"Test with no Emotion Feature Recall Mean: \" + str(statistics.mean(linear_results['recall'].loc[linear_results['Test'] == 7])\n",
    ") + \" SD: \" + str(statistics.stdev(linear_results['recall'].loc[linear_results['Test'] == 7])))\n",
    "\n",
    "print(\"Test with Emotion Feature Recall Mean: \" + str(statistics.mean(MLR_results['recall'].loc[MLR_results['Test'] == 8])\n",
    ") + \" SD: \" + str(statistics.stdev(linear_results['recall'].loc[linear_results['Test'] == 8])))"
   ]
  },
  {
   "cell_type": "code",
   "execution_count": null,
   "id": "87499b9b",
   "metadata": {},
   "outputs": [],
   "source": []
  },
  {
   "cell_type": "code",
   "execution_count": null,
   "id": "29af3891",
   "metadata": {},
   "outputs": [],
   "source": []
  }
 ],
 "metadata": {
  "kernelspec": {
   "display_name": "Python 3 (ipykernel)",
   "language": "python",
   "name": "python3"
  },
  "language_info": {
   "codemirror_mode": {
    "name": "ipython",
    "version": 3
   },
   "file_extension": ".py",
   "mimetype": "text/x-python",
   "name": "python",
   "nbconvert_exporter": "python",
   "pygments_lexer": "ipython3",
   "version": "3.9.7"
  }
 },
 "nbformat": 4,
 "nbformat_minor": 5
}
